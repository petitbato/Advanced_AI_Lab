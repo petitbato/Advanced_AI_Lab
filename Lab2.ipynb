{
  "nbformat": 4,
  "nbformat_minor": 0,
  "metadata": {
    "colab": {
      "provenance": [],
      "toc_visible": true,
      "include_colab_link": true
    },
    "kernelspec": {
      "name": "python3",
      "display_name": "Python 3"
    },
    "language_info": {
      "name": "python"
    }
  },
  "cells": [
    {
      "cell_type": "markdown",
      "metadata": {
        "id": "view-in-github",
        "colab_type": "text"
      },
      "source": [
        "<a href=\"https://colab.research.google.com/github/petitbato/Advanced_AI_Lab/blob/main/Lab2.ipynb\" target=\"_parent\"><img src=\"https://colab.research.google.com/assets/colab-badge.svg\" alt=\"Open In Colab\"/></a>"
      ]
    },
    {
      "cell_type": "markdown",
      "source": [
        "# Disparate Impact Remover"
      ],
      "metadata": {
        "id": "miQBf-JI6WI6"
      }
    },
    {
      "cell_type": "markdown",
      "source": [
        "This notebook demonstrates the ability of the Disparate Impact Remover algorithm, it's largely inspired by the example of  [the official AIF360 repository](https://github.com/Trusted-AI/AIF360/blob/main/examples/demo_disparate_impact_remover.ipynb). The Disparate Impact Remover is a pre-processing bias mitigation technique. Its goal is to reduce bias in the input data before training the model by editing the feature values so that they are less correlated with protected attributes, while still preserving as much of the data's utility as possible.\n",
        "How it works:\n",
        "\n",
        "\n",
        "1.       Identify protected attribute(s): E.g., gender, race.\n",
        "\n",
        "2.   Adjust non-protected features: It transforms the feature values so that their distributions become more similar across different groups (e.g., men vs. women), reducing the ability of the model to learn group-specific patterns.\n",
        "\n",
        "3.       Balance trade-off: There's a tunable parameter (often called repair_level) that determines how much to modify the features: 0.0 means no change (original data) and 1.0 means full repair (maximum fairness but potential loss of accuracy), values in between offer a trade-off.\n",
        "\n",
        "\n",
        "**Disparate Impact (DI)** is a metric used to assess fairness in machine learning models and decision-making processes. It measures the ratio of the favorable outcome rate for the unprivileged group to the favorable outcome rate for the privileged group.\n",
        "\n",
        "Mathematically:\n",
        "\n",
        "$$ DI = \\frac{Pr(favorableOutcome | unprivilegedGroup)}{Pr(favorableOutcome | privilegedGroup)} $$"
      ],
      "metadata": {
        "id": "rwt5N2487kWD"
      }
    },
    {
      "cell_type": "markdown",
      "source": [
        "## Import et installation\n"
      ],
      "metadata": {
        "id": "MB6mFONbiNG3"
      }
    },
    {
      "cell_type": "code",
      "source": [
        "!pip install aif360\n",
        "!pip install BlackBoxAuditing\n",
        "\n",
        "from __future__ import absolute_import\n",
        "from __future__ import division\n",
        "from __future__ import print_function\n",
        "from __future__ import unicode_literals\n",
        "\n",
        "from matplotlib import pyplot as plt\n",
        "\n",
        "import sys\n",
        "sys.path.append(\"../\")\n",
        "import warnings\n",
        "\n",
        "import numpy as np\n",
        "from tqdm import tqdm\n",
        "\n",
        "from sklearn.linear_model import LogisticRegression\n",
        "from sklearn.svm import SVC as SVM\n",
        "from sklearn.preprocessing import MinMaxScaler\n",
        "\n",
        "from aif360.algorithms.preprocessing import DisparateImpactRemover\n",
        "from aif360.datasets import AdultDataset\n",
        "from aif360.metrics import BinaryLabelDatasetMetric\n"
      ],
      "metadata": {
        "colab": {
          "base_uri": "https://localhost:8080/"
        },
        "id": "M2-1mat37l84",
        "outputId": "9a391136-31b9-44ad-df10-0d5f263304ee"
      },
      "execution_count": null,
      "outputs": [
        {
          "output_type": "stream",
          "name": "stdout",
          "text": [
            "Collecting aif360\n",
            "  Downloading aif360-0.6.1-py3-none-any.whl.metadata (5.0 kB)\n",
            "Requirement already satisfied: numpy>=1.16 in /usr/local/lib/python3.11/dist-packages (from aif360) (2.0.2)\n",
            "Requirement already satisfied: scipy>=1.2.0 in /usr/local/lib/python3.11/dist-packages (from aif360) (1.15.2)\n",
            "Requirement already satisfied: pandas>=0.24.0 in /usr/local/lib/python3.11/dist-packages (from aif360) (2.2.2)\n",
            "Requirement already satisfied: scikit-learn>=1.0 in /usr/local/lib/python3.11/dist-packages (from aif360) (1.6.1)\n",
            "Requirement already satisfied: matplotlib in /usr/local/lib/python3.11/dist-packages (from aif360) (3.10.0)\n",
            "Requirement already satisfied: python-dateutil>=2.8.2 in /usr/local/lib/python3.11/dist-packages (from pandas>=0.24.0->aif360) (2.9.0.post0)\n",
            "Requirement already satisfied: pytz>=2020.1 in /usr/local/lib/python3.11/dist-packages (from pandas>=0.24.0->aif360) (2025.2)\n",
            "Requirement already satisfied: tzdata>=2022.7 in /usr/local/lib/python3.11/dist-packages (from pandas>=0.24.0->aif360) (2025.2)\n",
            "Requirement already satisfied: joblib>=1.2.0 in /usr/local/lib/python3.11/dist-packages (from scikit-learn>=1.0->aif360) (1.4.2)\n",
            "Requirement already satisfied: threadpoolctl>=3.1.0 in /usr/local/lib/python3.11/dist-packages (from scikit-learn>=1.0->aif360) (3.6.0)\n",
            "Requirement already satisfied: contourpy>=1.0.1 in /usr/local/lib/python3.11/dist-packages (from matplotlib->aif360) (1.3.2)\n",
            "Requirement already satisfied: cycler>=0.10 in /usr/local/lib/python3.11/dist-packages (from matplotlib->aif360) (0.12.1)\n",
            "Requirement already satisfied: fonttools>=4.22.0 in /usr/local/lib/python3.11/dist-packages (from matplotlib->aif360) (4.57.0)\n",
            "Requirement already satisfied: kiwisolver>=1.3.1 in /usr/local/lib/python3.11/dist-packages (from matplotlib->aif360) (1.4.8)\n",
            "Requirement already satisfied: packaging>=20.0 in /usr/local/lib/python3.11/dist-packages (from matplotlib->aif360) (24.2)\n",
            "Requirement already satisfied: pillow>=8 in /usr/local/lib/python3.11/dist-packages (from matplotlib->aif360) (11.2.1)\n",
            "Requirement already satisfied: pyparsing>=2.3.1 in /usr/local/lib/python3.11/dist-packages (from matplotlib->aif360) (3.2.3)\n",
            "Requirement already satisfied: six>=1.5 in /usr/local/lib/python3.11/dist-packages (from python-dateutil>=2.8.2->pandas>=0.24.0->aif360) (1.17.0)\n",
            "Downloading aif360-0.6.1-py3-none-any.whl (259 kB)\n",
            "\u001b[2K   \u001b[90m━━━━━━━━━━━━━━━━━━━━━━━━━━━━━━━━━━━━━━━━\u001b[0m \u001b[32m259.7/259.7 kB\u001b[0m \u001b[31m3.9 MB/s\u001b[0m eta \u001b[36m0:00:00\u001b[0m\n",
            "\u001b[?25hInstalling collected packages: aif360\n",
            "Successfully installed aif360-0.6.1\n"
          ]
        },
        {
          "output_type": "stream",
          "name": "stderr",
          "text": [
            "WARNING:root:No module named 'fairlearn': ExponentiatedGradientReduction will be unavailable. To install, run:\n",
            "pip install 'aif360[Reductions]'\n",
            "WARNING:root:No module named 'fairlearn': GridSearchReduction will be unavailable. To install, run:\n",
            "pip install 'aif360[Reductions]'\n",
            "WARNING:root:No module named 'inFairness': SenSeI and SenSR will be unavailable. To install, run:\n",
            "pip install 'aif360[inFairness]'\n",
            "WARNING:root:No module named 'fairlearn': GridSearchReduction will be unavailable. To install, run:\n",
            "pip install 'aif360[Reductions]'\n"
          ]
        }
      ]
    },
    {
      "cell_type": "code",
      "source": [
        "!wget https://archive.ics.uci.edu/ml/machine-learning-databases/adult/adult.data -O /usr/local/lib/python3.11/dist-packages/aif360/data/raw/adult/adult.data\n",
        "!wget https://archive.ics.uci.edu/ml/machine-learning-databases/adult/adult.test -O /usr/local/lib/python3.11/dist-packages/aif360/data/raw/adult/adult.test\n",
        "!wget https://archive.ics.uci.edu/ml/machine-learning-databases/adult/adult.names -O /usr/local/lib/python3.11/dist-packages/aif360/data/raw/adult/adult.names\n"
      ],
      "metadata": {
        "colab": {
          "base_uri": "https://localhost:8080/"
        },
        "id": "GOCv7oES7zuL",
        "outputId": "9bd7ccea-991b-4568-b0ca-db782ce92de9"
      },
      "execution_count": null,
      "outputs": [
        {
          "output_type": "stream",
          "name": "stdout",
          "text": [
            "--2025-05-08 06:36:29--  https://archive.ics.uci.edu/ml/machine-learning-databases/adult/adult.data\n",
            "Resolving archive.ics.uci.edu (archive.ics.uci.edu)... 128.195.10.252\n",
            "Connecting to archive.ics.uci.edu (archive.ics.uci.edu)|128.195.10.252|:443... connected.\n",
            "HTTP request sent, awaiting response... 200 OK\n",
            "Length: unspecified\n",
            "Saving to: ‘/usr/local/lib/python3.11/dist-packages/aif360/data/raw/adult/adult.data’\n",
            "\n",
            "/usr/local/lib/pyth     [ <=>                ]   3.79M  19.6MB/s    in 0.2s    \n",
            "\n",
            "2025-05-08 06:36:30 (19.6 MB/s) - ‘/usr/local/lib/python3.11/dist-packages/aif360/data/raw/adult/adult.data’ saved [3974305]\n",
            "\n",
            "--2025-05-08 06:36:30--  https://archive.ics.uci.edu/ml/machine-learning-databases/adult/adult.test\n",
            "Resolving archive.ics.uci.edu (archive.ics.uci.edu)... 128.195.10.252\n",
            "Connecting to archive.ics.uci.edu (archive.ics.uci.edu)|128.195.10.252|:443... connected.\n",
            "HTTP request sent, awaiting response... 200 OK\n",
            "Length: unspecified\n",
            "Saving to: ‘/usr/local/lib/python3.11/dist-packages/aif360/data/raw/adult/adult.test’\n",
            "\n",
            "/usr/local/lib/pyth     [ <=>                ]   1.91M  --.-KB/s    in 0.1s    \n",
            "\n",
            "2025-05-08 06:36:30 (15.3 MB/s) - ‘/usr/local/lib/python3.11/dist-packages/aif360/data/raw/adult/adult.test’ saved [2003153]\n",
            "\n",
            "--2025-05-08 06:36:30--  https://archive.ics.uci.edu/ml/machine-learning-databases/adult/adult.names\n",
            "Resolving archive.ics.uci.edu (archive.ics.uci.edu)... 128.195.10.252\n",
            "Connecting to archive.ics.uci.edu (archive.ics.uci.edu)|128.195.10.252|:443... connected.\n",
            "HTTP request sent, awaiting response... 200 OK\n",
            "Length: unspecified\n",
            "Saving to: ‘/usr/local/lib/python3.11/dist-packages/aif360/data/raw/adult/adult.names’\n",
            "\n",
            "/usr/local/lib/pyth     [ <=>                ]   5.11K  --.-KB/s    in 0s      \n",
            "\n",
            "2025-05-08 06:36:30 (44.9 MB/s) - ‘/usr/local/lib/python3.11/dist-packages/aif360/data/raw/adult/adult.names’ saved [5229]\n",
            "\n"
          ]
        }
      ]
    },
    {
      "cell_type": "markdown",
      "source": [
        "## Support functions"
      ],
      "metadata": {
        "id": "SWYWFpwAjfo9"
      }
    },
    {
      "cell_type": "code",
      "source": [
        "import seaborn as sns # Import seaborn for KDE plotting\n",
        "\n",
        "def plot_histo(feature,level, data, data_repd, protected_attribute='sex', privileged_value='Male'):\n",
        "    fig, axes = plt.subplots(1, 2, figsize=(12, 6))  # Increased figure width\n",
        "    # Original data (all)\n",
        "    axes[0].set_title(f'{feature} original')\n",
        "\n",
        "    # Repaired data (all)\n",
        "    axes[1].set_title(f'{feature} repaired with repair level {level}')\n",
        "\n",
        "    # Filter data for privileged and unprivileged groups based on the protected attribute\n",
        "    privileged_group_indices = data.features[:, data.feature_names.index(protected_attribute)] == 1  # Assuming 1 represents privileged group\n",
        "    unprivileged_group_indices = data.features[:, data.feature_names.index(protected_attribute)] == 0  # Assuming 0 represents unprivileged group\n",
        "\n",
        "    # Plot KDEs for privileged and unprivileged groups on both subplots\n",
        "    sns.kdeplot(data.features[privileged_group_indices, data.feature_names.index(feature)], ax=axes[0], label=privileged_value)\n",
        "    sns.kdeplot(data.features[unprivileged_group_indices, data.feature_names.index(feature)], ax=axes[0], label=f'Not {privileged_value}')\n",
        "\n",
        "    sns.kdeplot(data_repd.features[privileged_group_indices, data_repd.feature_names.index(feature)], ax=axes[1], label=privileged_value)\n",
        "    sns.kdeplot(data_repd.features[unprivileged_group_indices, data_repd.feature_names.index(feature)], ax=axes[1], label=f'Not {privileged_value}')\n",
        "\n",
        "    # Add legends to both subplots\n",
        "    axes[0].legend()\n",
        "    axes[1].legend()\n",
        "\n",
        "    plt.show()"
      ],
      "metadata": {
        "id": "kOS7441VDsqz"
      },
      "execution_count": null,
      "outputs": []
    },
    {
      "cell_type": "markdown",
      "source": [
        "## Disparate Impact remover"
      ],
      "metadata": {
        "id": "Onf1wD9yjyS3"
      }
    },
    {
      "cell_type": "code",
      "source": [
        "# Define the protected attribute\n",
        "protected = 'sex'  # The protected attribute is 'sex', indicating gender in this case\n",
        "\n",
        "# Load the Adult Dataset with specified settings\n",
        "ad = AdultDataset(\n",
        "    protected_attribute_names=[protected],  # Specify 'sex' as the protected attribute\n",
        "    privileged_classes=[['Male']],  # Define 'Male' as the privileged class for the protected attribute\n",
        "    categorical_features=[],  # No categorical features are used in this analysis\n",
        "    features_to_keep=['age', 'education-num', 'capital-gain', 'capital-loss', 'hours-per-week']  # Select specific features for analysis\n",
        ")\n",
        "\n",
        "# Initialize a MinMaxScaler for feature scaling\n",
        "scaler = MinMaxScaler(copy=False)  # Create a scaler object to scale features to a specific range\n",
        "\n",
        "# Split the dataset into training and testing sets\n",
        "test, train = ad.split([10000])  # Split the dataset, allocating 10000 samples for testing\n",
        "\n",
        "# Scale the features in both training and testing sets\n",
        "train.features = scaler.fit_transform(train.features)  # Fit the scaler on training data and transform it\n",
        "test.features = scaler.fit_transform(test.features)  # Transform the testing data using the fitted scaler\n",
        "\n",
        "# Get the index of the protected attribute in the feature names\n",
        "index = train.feature_names.index(protected)  # Find the index of the protected attribute ('sex') in the feature names list\n",
        "\n",
        "\n"
      ],
      "metadata": {
        "id": "6buEtxP-8YN-"
      },
      "execution_count": null,
      "outputs": []
    },
    {
      "cell_type": "code",
      "source": [
        "# Initialize an empty list to store Disparate Impact values\n",
        "DIs = []\n",
        "\n",
        "# Feature to be used for histogram visualization\n",
        "feature_histogram = 'hours-per-week'  # Choosing 'hours-per-week' to observe the impact of repair on its distribution\n",
        "\n",
        "# Iterate through different repair levels from 0 to 1 with 11 steps\n",
        "for level in np.linspace(0., 1., 11):\n",
        "    # Initialize Disparate Impact Remover with the current repair level\n",
        "    di = DisparateImpactRemover(repair_level=level)\n",
        "\n",
        "    # Apply Disparate Impact Remover to the training and testing data\n",
        "    train_repd = di.fit_transform(train)  # Repair the training data\n",
        "    test_repd = di.fit_transform(test)  # Repair the testing data\n",
        "\n",
        "    # Plot histograms of the original and repaired data for the specified feature\n",
        "    plot_histo(feature_histogram, level, train, train_repd)  # Visualize the impact of repair on the feature distribution\n",
        "\n",
        "    # Prepare the data for model training and evaluation\n",
        "    # Remove the protected attribute from the features\n",
        "    X_tr = np.delete(train_repd.features, index, axis=1)\n",
        "    X_te = np.delete(test_repd.features, index, axis=1)\n",
        "\n",
        "    # Extract the labels from the repaired training data\n",
        "    y_tr = train_repd.labels.ravel()  # Training labels\n",
        "\n",
        "    # Initialize a Logistic Regression model with balanced class weights\n",
        "    lmod = LogisticRegression(class_weight='balanced', solver='liblinear')\n",
        "\n",
        "    # Train the Logistic Regression model on the repaired training data\n",
        "    lmod.fit(X_tr, y_tr)\n",
        "\n",
        "    # Make predictions on the repaired testing data\n",
        "    test_repd_pred = test_repd.copy()  # Create a copy of the repaired testing data\n",
        "    test_repd_pred.labels = lmod.predict(X_te)  # Assign predicted labels to the copy\n",
        "\n",
        "    # Define privileged and unprivileged groups based on the protected attribute\n",
        "    p = [{protected: 1}]  # Privileged group (e.g., Male)\n",
        "    u = [{protected: 0}]  # Unprivileged group (e.g., Female)\n",
        "\n",
        "    # Calculate the Disparate Impact using the BinaryLabelDatasetMetric\n",
        "    cm = BinaryLabelDatasetMetric(test_repd_pred, privileged_groups=p, unprivileged_groups=u)\n",
        "    DIs.append(cm.disparate_impact())"
      ],
      "metadata": {
        "colab": {
          "base_uri": "https://localhost:8080/",
          "height": 523
        },
        "id": "8s4048jxPlGW",
        "outputId": "38d69640-4358-4679-8656-64c20a41d3b7"
      },
      "execution_count": null,
      "outputs": [
        {
          "output_type": "error",
          "ename": "ModuleNotFoundError",
          "evalue": "No module named 'BlackBoxAuditing'",
          "traceback": [
            "\u001b[0;31m---------------------------------------------------------------------------\u001b[0m",
            "\u001b[0;31mModuleNotFoundError\u001b[0m                       Traceback (most recent call last)",
            "\u001b[0;32m<ipython-input-8-d36a3b0316ae>\u001b[0m in \u001b[0;36m<cell line: 0>\u001b[0;34m()\u001b[0m\n\u001b[1;32m      8\u001b[0m \u001b[0;32mfor\u001b[0m \u001b[0mlevel\u001b[0m \u001b[0;32min\u001b[0m \u001b[0mnp\u001b[0m\u001b[0;34m.\u001b[0m\u001b[0mlinspace\u001b[0m\u001b[0;34m(\u001b[0m\u001b[0;36m0.\u001b[0m\u001b[0;34m,\u001b[0m \u001b[0;36m1.\u001b[0m\u001b[0;34m,\u001b[0m \u001b[0;36m11\u001b[0m\u001b[0;34m)\u001b[0m\u001b[0;34m:\u001b[0m\u001b[0;34m\u001b[0m\u001b[0;34m\u001b[0m\u001b[0m\n\u001b[1;32m      9\u001b[0m     \u001b[0;31m# Initialize Disparate Impact Remover with the current repair level\u001b[0m\u001b[0;34m\u001b[0m\u001b[0;34m\u001b[0m\u001b[0m\n\u001b[0;32m---> 10\u001b[0;31m     \u001b[0mdi\u001b[0m \u001b[0;34m=\u001b[0m \u001b[0mDisparateImpactRemover\u001b[0m\u001b[0;34m(\u001b[0m\u001b[0mrepair_level\u001b[0m\u001b[0;34m=\u001b[0m\u001b[0mlevel\u001b[0m\u001b[0;34m)\u001b[0m\u001b[0;34m\u001b[0m\u001b[0;34m\u001b[0m\u001b[0m\n\u001b[0m\u001b[1;32m     11\u001b[0m \u001b[0;34m\u001b[0m\u001b[0m\n\u001b[1;32m     12\u001b[0m     \u001b[0;31m# Apply Disparate Impact Remover to the training and testing data\u001b[0m\u001b[0;34m\u001b[0m\u001b[0;34m\u001b[0m\u001b[0m\n",
            "\u001b[0;32m/usr/local/lib/python3.11/dist-packages/aif360/algorithms/preprocessing/disparate_impact_remover.py\u001b[0m in \u001b[0;36m__init__\u001b[0;34m(self, repair_level, sensitive_attribute)\u001b[0m\n\u001b[1;32m     27\u001b[0m         \u001b[0;31m# avoid importing early since this package can throw warnings in some\u001b[0m\u001b[0;34m\u001b[0m\u001b[0;34m\u001b[0m\u001b[0m\n\u001b[1;32m     28\u001b[0m         \u001b[0;31m# jupyter notebooks\u001b[0m\u001b[0;34m\u001b[0m\u001b[0;34m\u001b[0m\u001b[0m\n\u001b[0;32m---> 29\u001b[0;31m         \u001b[0;32mfrom\u001b[0m \u001b[0mBlackBoxAuditing\u001b[0m\u001b[0;34m.\u001b[0m\u001b[0mrepairers\u001b[0m\u001b[0;34m.\u001b[0m\u001b[0mGeneralRepairer\u001b[0m \u001b[0;32mimport\u001b[0m \u001b[0mRepairer\u001b[0m\u001b[0;34m\u001b[0m\u001b[0;34m\u001b[0m\u001b[0m\n\u001b[0m\u001b[1;32m     30\u001b[0m         \u001b[0mself\u001b[0m\u001b[0;34m.\u001b[0m\u001b[0mRepairer\u001b[0m \u001b[0;34m=\u001b[0m \u001b[0mRepairer\u001b[0m\u001b[0;34m\u001b[0m\u001b[0;34m\u001b[0m\u001b[0m\n\u001b[1;32m     31\u001b[0m \u001b[0;34m\u001b[0m\u001b[0m\n",
            "\u001b[0;31mModuleNotFoundError\u001b[0m: No module named 'BlackBoxAuditing'",
            "",
            "\u001b[0;31m---------------------------------------------------------------------------\u001b[0;32m\nNOTE: If your import is failing due to a missing package, you can\nmanually install dependencies using either !pip or !apt.\n\nTo view examples of installing some common dependencies, click the\n\"Open Examples\" button below.\n\u001b[0;31m---------------------------------------------------------------------------\u001b[0m\n"
          ],
          "errorDetails": {
            "actions": [
              {
                "action": "open_url",
                "actionText": "Open Examples",
                "url": "/notebooks/snippets/importing_libraries.ipynb"
              }
            ]
          }
        }
      ]
    },
    {
      "cell_type": "markdown",
      "source": [
        "The plot below show the evolution of the disparate impact based on the repair level.\n",
        "\n",
        "**Your are asked to add the plot of the global accuracy against the repair level.**"
      ],
      "metadata": {
        "id": "CS32Talv_A-x"
      }
    },
    {
      "cell_type": "code",
      "source": [
        "%matplotlib inline\n",
        "\n",
        "plt.plot(np.linspace(0, 1, 11), DIs, marker='o')\n",
        "plt.plot([0, 1], [1, 1], 'g')\n",
        "plt.plot([0, 1], [0.8, 0.8], 'r')\n",
        "plt.ylim([0.4, 1.2])\n",
        "plt.ylabel('Disparate Impact (DI)')\n",
        "plt.xlabel('repair level')\n",
        "plt.show()"
      ],
      "metadata": {
        "id": "UdK9Ebgp9nt5"
      },
      "execution_count": null,
      "outputs": []
    },
    {
      "cell_type": "code",
      "source": [],
      "metadata": {
        "id": "UBl-2uZ1AUMo"
      },
      "execution_count": null,
      "outputs": []
    },
    {
      "cell_type": "code",
      "source": [],
      "metadata": {
        "id": "Z0pREgVeAWi2"
      },
      "execution_count": null,
      "outputs": []
    }
  ]
}