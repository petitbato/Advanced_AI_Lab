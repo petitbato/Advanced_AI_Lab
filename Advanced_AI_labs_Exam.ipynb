{
  "nbformat": 4,
  "nbformat_minor": 0,
  "metadata": {
    "colab": {
      "provenance": [],
      "toc_visible": true,
      "include_colab_link": true
    },
    "kernelspec": {
      "name": "python3",
      "display_name": "Python 3"
    },
    "language_info": {
      "name": "python"
    }
  },
  "cells": [
    {
      "cell_type": "markdown",
      "metadata": {
        "id": "view-in-github",
        "colab_type": "text"
      },
      "source": [
        "<a href=\"https://colab.research.google.com/github/petitbato/Advanced_AI_Lab/blob/main/Advanced_AI_labs_Exam.ipynb\" target=\"_parent\"><img src=\"https://colab.research.google.com/assets/colab-badge.svg\" alt=\"Open In Colab\"/></a>"
      ]
    },
    {
      "cell_type": "markdown",
      "source": [
        "# EXAM Predicting German Credit Risk\n",
        "\n",
        "\n"
      ],
      "metadata": {
        "id": "0kPueq6VN9jj"
      }
    },
    {
      "cell_type": "markdown",
      "source": [
        "## 1) Instructions and model training"
      ],
      "metadata": {
        "id": "fxW2Sv0gRhv6"
      }
    },
    {
      "cell_type": "markdown",
      "source": [
        "### Instructions"
      ],
      "metadata": {
        "id": "rCRNw7CGR1gO"
      }
    },
    {
      "cell_type": "markdown",
      "source": [
        "For this advanced AI labs exam you are asked to complete this notebook with **code, graphs, explainations and analysis** depending on what is requested.\n",
        "\n",
        "In this first section we introduce a dataset around credit risk, we preprocess its data and we train an xgboost model on it. Read this section attentively first to fully understand the context and to respond correctly afterwards.\n",
        "\n",
        "The second, third and fourth sections contain instructions on how to analyze an improve the bias of the model, how to explain some decisions and how to attack the model.\n",
        "\n",
        "To implement these instructions you are **free to use any ressource** you want (slides, previous colabs, only resources, AI chatbots, ...). The only rule is to **not communicate between each other or with someone outside the classroom**. You can, on demand, get out of the classroom for a short break or to go to the bathroom but only if no other student is already outside. You have a total of **3h** to complete everything.\n",
        "\n",
        "At the end of the time you are asked to submit **a file .ipynb**  on claco with the name Lastname_Firstname_studentCode.ipynb. Make sure that the prints and graphs are displayed correctly in the code cells output (I won't run you code)and that the text cells are filled.\n",
        "\n"
      ],
      "metadata": {
        "id": "szqjWD63R9mH"
      }
    },
    {
      "cell_type": "markdown",
      "source": [
        "### Context\n",
        "\n",
        "[The original dataset](https://colab.research.google.com/drive/1aM-dd5scoPEtLWBsFn8GoVg6G-6YBa-Z#scrollTo=8K_v6sDrOVSH&line=13&uniqifier=1) contains 1000 entries with 20 categorial/symbolic attributes prepared by Prof. Hofmann. In this dataset, each entry represents a person who takes a credit by a bank. Each person is classified as good or bad credit risks according to the set of attributes. It is almost impossible to understand the original dataset due to its complicated system of categories and symbols. Thus, a small Python script was written to convert it into a readable CSV file that we pull from [kaggle](https://www.kaggle.com/code/heidarmirhajisadati/credit-risk-prediction-using-german-credit-data/notebook). Several columns are simply ignored, because of their probable uselessness. The selected attributes are:\n",
        "\n",
        " *   Age (numeric)\n",
        " *   Sex (text: male, female)\n",
        " *   Job (numeric: 0 - unskilled and non-resident, 1 - unskilled and resident, 2 - skilled, 3 - highly skilled)\n",
        " *   Housing (text: own, rent, or free)\n",
        " *   Saving accounts (text - little, moderate, quite rich, rich)\n",
        " *   Checking account (text - little, moderate, quite rich, rich)\n",
        " *   Credit amount (numeric, in DM)\n",
        " *   Duration (numeric, in month)\n",
        " *   Purpose (text: car, furniture/equipment, radio/TV, domestic appliances, * repairs, education, business, vacation/others)"
      ],
      "metadata": {
        "id": "8K_v6sDrOVSH"
      }
    },
    {
      "cell_type": "markdown",
      "source": [
        "### Dataset Loading and pre-processing\n",
        "We will start by loading the dataset from kaggle and preprocess the features to obtain numerical inputs."
      ],
      "metadata": {
        "id": "hyNyCamHPIUO"
      }
    },
    {
      "cell_type": "code",
      "source": [
        "import pandas as pd\n",
        "import numpy as np\n",
        "import seaborn as sns\n",
        "import matplotlib.pyplot as plt\n",
        "import kagglehub\n",
        "import os\n",
        "import tensorflow as tf\n",
        "\n",
        "from sklearn.preprocessing import OrdinalEncoder\n",
        "from sklearn.model_selection import train_test_split\n",
        "from sklearn.utils import resample\n",
        "from sklearn.metrics import accuracy_score\n",
        "from sklearn.ensemble import GradientBoostingClassifier\n",
        "\n",
        "seed = 11\n",
        "np.random.seed(seed)\n",
        "tf.random.set_seed(seed)"
      ],
      "metadata": {
        "id": "jRUNA5UzPuLA"
      },
      "execution_count": null,
      "outputs": []
    },
    {
      "cell_type": "code",
      "source": [
        "# URL of the CSV file on GitHub\n",
        "url = \"https://raw.githubusercontent.com/ziadasal/Credit-Risk-Assessment/main/german_credit_data.csv\"\n",
        "\n",
        "# Read the CSV file directly into a pandas DataFrame\n",
        "df = pd.read_csv(url)\n",
        "\n",
        "# Display the first few rows of the dataset\n",
        "df.head(10)"
      ],
      "metadata": {
        "colab": {
          "base_uri": "https://localhost:8080/",
          "height": 363
        },
        "id": "YoG7jioVPc5S",
        "outputId": "a1a2dd0a-6163-4686-b68a-2da828d6bf68"
      },
      "execution_count": null,
      "outputs": [
        {
          "output_type": "execute_result",
          "data": {
            "text/plain": [
              "   Unnamed: 0  Age     Sex  Job Housing Saving accounts Checking account  \\\n",
              "0           0   67    male    2     own             NaN           little   \n",
              "1           1   22  female    2     own          little         moderate   \n",
              "2           2   49    male    1     own          little              NaN   \n",
              "3           3   45    male    2    free          little           little   \n",
              "4           4   53    male    2    free          little           little   \n",
              "5           5   35    male    1    free             NaN              NaN   \n",
              "6           6   53    male    2     own      quite rich              NaN   \n",
              "7           7   35    male    3    rent          little         moderate   \n",
              "8           8   61    male    1     own            rich              NaN   \n",
              "9           9   28    male    3     own          little         moderate   \n",
              "\n",
              "   Credit amount  Duration              Purpose  Risk  \n",
              "0           1169         6             radio/TV  good  \n",
              "1           5951        48             radio/TV   bad  \n",
              "2           2096        12            education  good  \n",
              "3           7882        42  furniture/equipment  good  \n",
              "4           4870        24                  car   bad  \n",
              "5           9055        36            education  good  \n",
              "6           2835        24  furniture/equipment  good  \n",
              "7           6948        36                  car  good  \n",
              "8           3059        12             radio/TV  good  \n",
              "9           5234        30                  car   bad  "
            ],
            "text/html": [
              "\n",
              "  <div id=\"df-2d695fb8-b37e-4eef-8e65-570c189b6353\" class=\"colab-df-container\">\n",
              "    <div>\n",
              "<style scoped>\n",
              "    .dataframe tbody tr th:only-of-type {\n",
              "        vertical-align: middle;\n",
              "    }\n",
              "\n",
              "    .dataframe tbody tr th {\n",
              "        vertical-align: top;\n",
              "    }\n",
              "\n",
              "    .dataframe thead th {\n",
              "        text-align: right;\n",
              "    }\n",
              "</style>\n",
              "<table border=\"1\" class=\"dataframe\">\n",
              "  <thead>\n",
              "    <tr style=\"text-align: right;\">\n",
              "      <th></th>\n",
              "      <th>Unnamed: 0</th>\n",
              "      <th>Age</th>\n",
              "      <th>Sex</th>\n",
              "      <th>Job</th>\n",
              "      <th>Housing</th>\n",
              "      <th>Saving accounts</th>\n",
              "      <th>Checking account</th>\n",
              "      <th>Credit amount</th>\n",
              "      <th>Duration</th>\n",
              "      <th>Purpose</th>\n",
              "      <th>Risk</th>\n",
              "    </tr>\n",
              "  </thead>\n",
              "  <tbody>\n",
              "    <tr>\n",
              "      <th>0</th>\n",
              "      <td>0</td>\n",
              "      <td>67</td>\n",
              "      <td>male</td>\n",
              "      <td>2</td>\n",
              "      <td>own</td>\n",
              "      <td>NaN</td>\n",
              "      <td>little</td>\n",
              "      <td>1169</td>\n",
              "      <td>6</td>\n",
              "      <td>radio/TV</td>\n",
              "      <td>good</td>\n",
              "    </tr>\n",
              "    <tr>\n",
              "      <th>1</th>\n",
              "      <td>1</td>\n",
              "      <td>22</td>\n",
              "      <td>female</td>\n",
              "      <td>2</td>\n",
              "      <td>own</td>\n",
              "      <td>little</td>\n",
              "      <td>moderate</td>\n",
              "      <td>5951</td>\n",
              "      <td>48</td>\n",
              "      <td>radio/TV</td>\n",
              "      <td>bad</td>\n",
              "    </tr>\n",
              "    <tr>\n",
              "      <th>2</th>\n",
              "      <td>2</td>\n",
              "      <td>49</td>\n",
              "      <td>male</td>\n",
              "      <td>1</td>\n",
              "      <td>own</td>\n",
              "      <td>little</td>\n",
              "      <td>NaN</td>\n",
              "      <td>2096</td>\n",
              "      <td>12</td>\n",
              "      <td>education</td>\n",
              "      <td>good</td>\n",
              "    </tr>\n",
              "    <tr>\n",
              "      <th>3</th>\n",
              "      <td>3</td>\n",
              "      <td>45</td>\n",
              "      <td>male</td>\n",
              "      <td>2</td>\n",
              "      <td>free</td>\n",
              "      <td>little</td>\n",
              "      <td>little</td>\n",
              "      <td>7882</td>\n",
              "      <td>42</td>\n",
              "      <td>furniture/equipment</td>\n",
              "      <td>good</td>\n",
              "    </tr>\n",
              "    <tr>\n",
              "      <th>4</th>\n",
              "      <td>4</td>\n",
              "      <td>53</td>\n",
              "      <td>male</td>\n",
              "      <td>2</td>\n",
              "      <td>free</td>\n",
              "      <td>little</td>\n",
              "      <td>little</td>\n",
              "      <td>4870</td>\n",
              "      <td>24</td>\n",
              "      <td>car</td>\n",
              "      <td>bad</td>\n",
              "    </tr>\n",
              "    <tr>\n",
              "      <th>5</th>\n",
              "      <td>5</td>\n",
              "      <td>35</td>\n",
              "      <td>male</td>\n",
              "      <td>1</td>\n",
              "      <td>free</td>\n",
              "      <td>NaN</td>\n",
              "      <td>NaN</td>\n",
              "      <td>9055</td>\n",
              "      <td>36</td>\n",
              "      <td>education</td>\n",
              "      <td>good</td>\n",
              "    </tr>\n",
              "    <tr>\n",
              "      <th>6</th>\n",
              "      <td>6</td>\n",
              "      <td>53</td>\n",
              "      <td>male</td>\n",
              "      <td>2</td>\n",
              "      <td>own</td>\n",
              "      <td>quite rich</td>\n",
              "      <td>NaN</td>\n",
              "      <td>2835</td>\n",
              "      <td>24</td>\n",
              "      <td>furniture/equipment</td>\n",
              "      <td>good</td>\n",
              "    </tr>\n",
              "    <tr>\n",
              "      <th>7</th>\n",
              "      <td>7</td>\n",
              "      <td>35</td>\n",
              "      <td>male</td>\n",
              "      <td>3</td>\n",
              "      <td>rent</td>\n",
              "      <td>little</td>\n",
              "      <td>moderate</td>\n",
              "      <td>6948</td>\n",
              "      <td>36</td>\n",
              "      <td>car</td>\n",
              "      <td>good</td>\n",
              "    </tr>\n",
              "    <tr>\n",
              "      <th>8</th>\n",
              "      <td>8</td>\n",
              "      <td>61</td>\n",
              "      <td>male</td>\n",
              "      <td>1</td>\n",
              "      <td>own</td>\n",
              "      <td>rich</td>\n",
              "      <td>NaN</td>\n",
              "      <td>3059</td>\n",
              "      <td>12</td>\n",
              "      <td>radio/TV</td>\n",
              "      <td>good</td>\n",
              "    </tr>\n",
              "    <tr>\n",
              "      <th>9</th>\n",
              "      <td>9</td>\n",
              "      <td>28</td>\n",
              "      <td>male</td>\n",
              "      <td>3</td>\n",
              "      <td>own</td>\n",
              "      <td>little</td>\n",
              "      <td>moderate</td>\n",
              "      <td>5234</td>\n",
              "      <td>30</td>\n",
              "      <td>car</td>\n",
              "      <td>bad</td>\n",
              "    </tr>\n",
              "  </tbody>\n",
              "</table>\n",
              "</div>\n",
              "    <div class=\"colab-df-buttons\">\n",
              "\n",
              "  <div class=\"colab-df-container\">\n",
              "    <button class=\"colab-df-convert\" onclick=\"convertToInteractive('df-2d695fb8-b37e-4eef-8e65-570c189b6353')\"\n",
              "            title=\"Convert this dataframe to an interactive table.\"\n",
              "            style=\"display:none;\">\n",
              "\n",
              "  <svg xmlns=\"http://www.w3.org/2000/svg\" height=\"24px\" viewBox=\"0 -960 960 960\">\n",
              "    <path d=\"M120-120v-720h720v720H120Zm60-500h600v-160H180v160Zm220 220h160v-160H400v160Zm0 220h160v-160H400v160ZM180-400h160v-160H180v160Zm440 0h160v-160H620v160ZM180-180h160v-160H180v160Zm440 0h160v-160H620v160Z\"/>\n",
              "  </svg>\n",
              "    </button>\n",
              "\n",
              "  <style>\n",
              "    .colab-df-container {\n",
              "      display:flex;\n",
              "      gap: 12px;\n",
              "    }\n",
              "\n",
              "    .colab-df-convert {\n",
              "      background-color: #E8F0FE;\n",
              "      border: none;\n",
              "      border-radius: 50%;\n",
              "      cursor: pointer;\n",
              "      display: none;\n",
              "      fill: #1967D2;\n",
              "      height: 32px;\n",
              "      padding: 0 0 0 0;\n",
              "      width: 32px;\n",
              "    }\n",
              "\n",
              "    .colab-df-convert:hover {\n",
              "      background-color: #E2EBFA;\n",
              "      box-shadow: 0px 1px 2px rgba(60, 64, 67, 0.3), 0px 1px 3px 1px rgba(60, 64, 67, 0.15);\n",
              "      fill: #174EA6;\n",
              "    }\n",
              "\n",
              "    .colab-df-buttons div {\n",
              "      margin-bottom: 4px;\n",
              "    }\n",
              "\n",
              "    [theme=dark] .colab-df-convert {\n",
              "      background-color: #3B4455;\n",
              "      fill: #D2E3FC;\n",
              "    }\n",
              "\n",
              "    [theme=dark] .colab-df-convert:hover {\n",
              "      background-color: #434B5C;\n",
              "      box-shadow: 0px 1px 3px 1px rgba(0, 0, 0, 0.15);\n",
              "      filter: drop-shadow(0px 1px 2px rgba(0, 0, 0, 0.3));\n",
              "      fill: #FFFFFF;\n",
              "    }\n",
              "  </style>\n",
              "\n",
              "    <script>\n",
              "      const buttonEl =\n",
              "        document.querySelector('#df-2d695fb8-b37e-4eef-8e65-570c189b6353 button.colab-df-convert');\n",
              "      buttonEl.style.display =\n",
              "        google.colab.kernel.accessAllowed ? 'block' : 'none';\n",
              "\n",
              "      async function convertToInteractive(key) {\n",
              "        const element = document.querySelector('#df-2d695fb8-b37e-4eef-8e65-570c189b6353');\n",
              "        const dataTable =\n",
              "          await google.colab.kernel.invokeFunction('convertToInteractive',\n",
              "                                                    [key], {});\n",
              "        if (!dataTable) return;\n",
              "\n",
              "        const docLinkHtml = 'Like what you see? Visit the ' +\n",
              "          '<a target=\"_blank\" href=https://colab.research.google.com/notebooks/data_table.ipynb>data table notebook</a>'\n",
              "          + ' to learn more about interactive tables.';\n",
              "        element.innerHTML = '';\n",
              "        dataTable['output_type'] = 'display_data';\n",
              "        await google.colab.output.renderOutput(dataTable, element);\n",
              "        const docLink = document.createElement('div');\n",
              "        docLink.innerHTML = docLinkHtml;\n",
              "        element.appendChild(docLink);\n",
              "      }\n",
              "    </script>\n",
              "  </div>\n",
              "\n",
              "\n",
              "    <div id=\"df-c0705efe-abda-44db-9837-c0025474d7b3\">\n",
              "      <button class=\"colab-df-quickchart\" onclick=\"quickchart('df-c0705efe-abda-44db-9837-c0025474d7b3')\"\n",
              "                title=\"Suggest charts\"\n",
              "                style=\"display:none;\">\n",
              "\n",
              "<svg xmlns=\"http://www.w3.org/2000/svg\" height=\"24px\"viewBox=\"0 0 24 24\"\n",
              "     width=\"24px\">\n",
              "    <g>\n",
              "        <path d=\"M19 3H5c-1.1 0-2 .9-2 2v14c0 1.1.9 2 2 2h14c1.1 0 2-.9 2-2V5c0-1.1-.9-2-2-2zM9 17H7v-7h2v7zm4 0h-2V7h2v10zm4 0h-2v-4h2v4z\"/>\n",
              "    </g>\n",
              "</svg>\n",
              "      </button>\n",
              "\n",
              "<style>\n",
              "  .colab-df-quickchart {\n",
              "      --bg-color: #E8F0FE;\n",
              "      --fill-color: #1967D2;\n",
              "      --hover-bg-color: #E2EBFA;\n",
              "      --hover-fill-color: #174EA6;\n",
              "      --disabled-fill-color: #AAA;\n",
              "      --disabled-bg-color: #DDD;\n",
              "  }\n",
              "\n",
              "  [theme=dark] .colab-df-quickchart {\n",
              "      --bg-color: #3B4455;\n",
              "      --fill-color: #D2E3FC;\n",
              "      --hover-bg-color: #434B5C;\n",
              "      --hover-fill-color: #FFFFFF;\n",
              "      --disabled-bg-color: #3B4455;\n",
              "      --disabled-fill-color: #666;\n",
              "  }\n",
              "\n",
              "  .colab-df-quickchart {\n",
              "    background-color: var(--bg-color);\n",
              "    border: none;\n",
              "    border-radius: 50%;\n",
              "    cursor: pointer;\n",
              "    display: none;\n",
              "    fill: var(--fill-color);\n",
              "    height: 32px;\n",
              "    padding: 0;\n",
              "    width: 32px;\n",
              "  }\n",
              "\n",
              "  .colab-df-quickchart:hover {\n",
              "    background-color: var(--hover-bg-color);\n",
              "    box-shadow: 0 1px 2px rgba(60, 64, 67, 0.3), 0 1px 3px 1px rgba(60, 64, 67, 0.15);\n",
              "    fill: var(--button-hover-fill-color);\n",
              "  }\n",
              "\n",
              "  .colab-df-quickchart-complete:disabled,\n",
              "  .colab-df-quickchart-complete:disabled:hover {\n",
              "    background-color: var(--disabled-bg-color);\n",
              "    fill: var(--disabled-fill-color);\n",
              "    box-shadow: none;\n",
              "  }\n",
              "\n",
              "  .colab-df-spinner {\n",
              "    border: 2px solid var(--fill-color);\n",
              "    border-color: transparent;\n",
              "    border-bottom-color: var(--fill-color);\n",
              "    animation:\n",
              "      spin 1s steps(1) infinite;\n",
              "  }\n",
              "\n",
              "  @keyframes spin {\n",
              "    0% {\n",
              "      border-color: transparent;\n",
              "      border-bottom-color: var(--fill-color);\n",
              "      border-left-color: var(--fill-color);\n",
              "    }\n",
              "    20% {\n",
              "      border-color: transparent;\n",
              "      border-left-color: var(--fill-color);\n",
              "      border-top-color: var(--fill-color);\n",
              "    }\n",
              "    30% {\n",
              "      border-color: transparent;\n",
              "      border-left-color: var(--fill-color);\n",
              "      border-top-color: var(--fill-color);\n",
              "      border-right-color: var(--fill-color);\n",
              "    }\n",
              "    40% {\n",
              "      border-color: transparent;\n",
              "      border-right-color: var(--fill-color);\n",
              "      border-top-color: var(--fill-color);\n",
              "    }\n",
              "    60% {\n",
              "      border-color: transparent;\n",
              "      border-right-color: var(--fill-color);\n",
              "    }\n",
              "    80% {\n",
              "      border-color: transparent;\n",
              "      border-right-color: var(--fill-color);\n",
              "      border-bottom-color: var(--fill-color);\n",
              "    }\n",
              "    90% {\n",
              "      border-color: transparent;\n",
              "      border-bottom-color: var(--fill-color);\n",
              "    }\n",
              "  }\n",
              "</style>\n",
              "\n",
              "      <script>\n",
              "        async function quickchart(key) {\n",
              "          const quickchartButtonEl =\n",
              "            document.querySelector('#' + key + ' button');\n",
              "          quickchartButtonEl.disabled = true;  // To prevent multiple clicks.\n",
              "          quickchartButtonEl.classList.add('colab-df-spinner');\n",
              "          try {\n",
              "            const charts = await google.colab.kernel.invokeFunction(\n",
              "                'suggestCharts', [key], {});\n",
              "          } catch (error) {\n",
              "            console.error('Error during call to suggestCharts:', error);\n",
              "          }\n",
              "          quickchartButtonEl.classList.remove('colab-df-spinner');\n",
              "          quickchartButtonEl.classList.add('colab-df-quickchart-complete');\n",
              "        }\n",
              "        (() => {\n",
              "          let quickchartButtonEl =\n",
              "            document.querySelector('#df-c0705efe-abda-44db-9837-c0025474d7b3 button');\n",
              "          quickchartButtonEl.style.display =\n",
              "            google.colab.kernel.accessAllowed ? 'block' : 'none';\n",
              "        })();\n",
              "      </script>\n",
              "    </div>\n",
              "\n",
              "    </div>\n",
              "  </div>\n"
            ],
            "application/vnd.google.colaboratory.intrinsic+json": {
              "type": "dataframe",
              "variable_name": "df",
              "summary": "{\n  \"name\": \"df\",\n  \"rows\": 1000,\n  \"fields\": [\n    {\n      \"column\": \"Unnamed: 0\",\n      \"properties\": {\n        \"dtype\": \"number\",\n        \"std\": 288,\n        \"min\": 0,\n        \"max\": 999,\n        \"num_unique_values\": 1000,\n        \"samples\": [\n          521,\n          737,\n          740\n        ],\n        \"semantic_type\": \"\",\n        \"description\": \"\"\n      }\n    },\n    {\n      \"column\": \"Age\",\n      \"properties\": {\n        \"dtype\": \"number\",\n        \"std\": 11,\n        \"min\": 19,\n        \"max\": 75,\n        \"num_unique_values\": 53,\n        \"samples\": [\n          34,\n          38,\n          55\n        ],\n        \"semantic_type\": \"\",\n        \"description\": \"\"\n      }\n    },\n    {\n      \"column\": \"Sex\",\n      \"properties\": {\n        \"dtype\": \"category\",\n        \"num_unique_values\": 2,\n        \"samples\": [\n          \"female\",\n          \"male\"\n        ],\n        \"semantic_type\": \"\",\n        \"description\": \"\"\n      }\n    },\n    {\n      \"column\": \"Job\",\n      \"properties\": {\n        \"dtype\": \"number\",\n        \"std\": 0,\n        \"min\": 0,\n        \"max\": 3,\n        \"num_unique_values\": 4,\n        \"samples\": [\n          1,\n          0\n        ],\n        \"semantic_type\": \"\",\n        \"description\": \"\"\n      }\n    },\n    {\n      \"column\": \"Housing\",\n      \"properties\": {\n        \"dtype\": \"category\",\n        \"num_unique_values\": 3,\n        \"samples\": [\n          \"own\",\n          \"free\"\n        ],\n        \"semantic_type\": \"\",\n        \"description\": \"\"\n      }\n    },\n    {\n      \"column\": \"Saving accounts\",\n      \"properties\": {\n        \"dtype\": \"category\",\n        \"num_unique_values\": 4,\n        \"samples\": [\n          \"quite rich\",\n          \"moderate\"\n        ],\n        \"semantic_type\": \"\",\n        \"description\": \"\"\n      }\n    },\n    {\n      \"column\": \"Checking account\",\n      \"properties\": {\n        \"dtype\": \"category\",\n        \"num_unique_values\": 3,\n        \"samples\": [\n          \"little\",\n          \"moderate\"\n        ],\n        \"semantic_type\": \"\",\n        \"description\": \"\"\n      }\n    },\n    {\n      \"column\": \"Credit amount\",\n      \"properties\": {\n        \"dtype\": \"number\",\n        \"std\": 2822,\n        \"min\": 250,\n        \"max\": 18424,\n        \"num_unique_values\": 921,\n        \"samples\": [\n          1068,\n          2326\n        ],\n        \"semantic_type\": \"\",\n        \"description\": \"\"\n      }\n    },\n    {\n      \"column\": \"Duration\",\n      \"properties\": {\n        \"dtype\": \"number\",\n        \"std\": 12,\n        \"min\": 4,\n        \"max\": 72,\n        \"num_unique_values\": 33,\n        \"samples\": [\n          72,\n          27\n        ],\n        \"semantic_type\": \"\",\n        \"description\": \"\"\n      }\n    },\n    {\n      \"column\": \"Purpose\",\n      \"properties\": {\n        \"dtype\": \"category\",\n        \"num_unique_values\": 8,\n        \"samples\": [\n          \"education\",\n          \"domestic appliances\"\n        ],\n        \"semantic_type\": \"\",\n        \"description\": \"\"\n      }\n    },\n    {\n      \"column\": \"Risk\",\n      \"properties\": {\n        \"dtype\": \"category\",\n        \"num_unique_values\": 2,\n        \"samples\": [\n          \"bad\",\n          \"good\"\n        ],\n        \"semantic_type\": \"\",\n        \"description\": \"\"\n      }\n    }\n  ]\n}"
            }
          },
          "metadata": {},
          "execution_count": 118
        }
      ]
    },
    {
      "cell_type": "markdown",
      "source": [
        "We will now process the dataset by encoding categorical features and handling missing values."
      ],
      "metadata": {
        "id": "b7Oz5fieQEpn"
      }
    },
    {
      "cell_type": "code",
      "source": [
        "# Drop purpose and unnamed data\n",
        "df.drop('Purpose', axis=1, inplace=True)\n",
        "df.drop('Unnamed: 0', axis=1, inplace=True)\n",
        "# Handle missing values by filling with a placeholder\n",
        "df.fillna({'Saving accounts': 'unknown', 'Checking account': 'unknown'}, inplace=True)\n",
        "\n",
        "# Create a dictionary to store the order for each feature\n",
        "feature_order = {\n",
        "    'Sex': ['male', 'female'],\n",
        "    'Housing': ['own', 'rent', 'free'],\n",
        "    'Saving accounts': ['unknown', 'little','moderate','quite rich', 'rich'],\n",
        "    'Checking account': ['unknown', 'little', 'moderate','quite rich',  'rich'],\n",
        "    'Risk': ['bad', 'good']\n",
        "}\n",
        "\n",
        "# Create an OrdinalEncoder with the specified categories\n",
        "categorical_features = list(feature_order.keys())\n",
        "encoder = OrdinalEncoder(categories=[feature_order[feature] for feature in categorical_features])\n",
        "\n",
        "# Fit and transform the data for selected columns\n",
        "df[categorical_features] = encoder.fit_transform(df[categorical_features])\n",
        "\n",
        "# Display the cleaned and encoded dataset\n",
        "df.head()\n",
        "\n"
      ],
      "metadata": {
        "colab": {
          "base_uri": "https://localhost:8080/",
          "height": 206
        },
        "id": "mSCjTUqvQVe6",
        "outputId": "bcbbe3e0-ca13-4144-cd1f-8ab584a34bc1"
      },
      "execution_count": null,
      "outputs": [
        {
          "output_type": "execute_result",
          "data": {
            "text/plain": [
              "   Age  Sex  Job  Housing  Saving accounts  Checking account  Credit amount  \\\n",
              "0   67  0.0    2      0.0              0.0               1.0           1169   \n",
              "1   22  1.0    2      0.0              1.0               2.0           5951   \n",
              "2   49  0.0    1      0.0              1.0               0.0           2096   \n",
              "3   45  0.0    2      2.0              1.0               1.0           7882   \n",
              "4   53  0.0    2      2.0              1.0               1.0           4870   \n",
              "\n",
              "   Duration  Risk  \n",
              "0         6   1.0  \n",
              "1        48   0.0  \n",
              "2        12   1.0  \n",
              "3        42   1.0  \n",
              "4        24   0.0  "
            ],
            "text/html": [
              "\n",
              "  <div id=\"df-e62917bb-fdef-49ca-a577-ac340af09399\" class=\"colab-df-container\">\n",
              "    <div>\n",
              "<style scoped>\n",
              "    .dataframe tbody tr th:only-of-type {\n",
              "        vertical-align: middle;\n",
              "    }\n",
              "\n",
              "    .dataframe tbody tr th {\n",
              "        vertical-align: top;\n",
              "    }\n",
              "\n",
              "    .dataframe thead th {\n",
              "        text-align: right;\n",
              "    }\n",
              "</style>\n",
              "<table border=\"1\" class=\"dataframe\">\n",
              "  <thead>\n",
              "    <tr style=\"text-align: right;\">\n",
              "      <th></th>\n",
              "      <th>Age</th>\n",
              "      <th>Sex</th>\n",
              "      <th>Job</th>\n",
              "      <th>Housing</th>\n",
              "      <th>Saving accounts</th>\n",
              "      <th>Checking account</th>\n",
              "      <th>Credit amount</th>\n",
              "      <th>Duration</th>\n",
              "      <th>Risk</th>\n",
              "    </tr>\n",
              "  </thead>\n",
              "  <tbody>\n",
              "    <tr>\n",
              "      <th>0</th>\n",
              "      <td>67</td>\n",
              "      <td>0.0</td>\n",
              "      <td>2</td>\n",
              "      <td>0.0</td>\n",
              "      <td>0.0</td>\n",
              "      <td>1.0</td>\n",
              "      <td>1169</td>\n",
              "      <td>6</td>\n",
              "      <td>1.0</td>\n",
              "    </tr>\n",
              "    <tr>\n",
              "      <th>1</th>\n",
              "      <td>22</td>\n",
              "      <td>1.0</td>\n",
              "      <td>2</td>\n",
              "      <td>0.0</td>\n",
              "      <td>1.0</td>\n",
              "      <td>2.0</td>\n",
              "      <td>5951</td>\n",
              "      <td>48</td>\n",
              "      <td>0.0</td>\n",
              "    </tr>\n",
              "    <tr>\n",
              "      <th>2</th>\n",
              "      <td>49</td>\n",
              "      <td>0.0</td>\n",
              "      <td>1</td>\n",
              "      <td>0.0</td>\n",
              "      <td>1.0</td>\n",
              "      <td>0.0</td>\n",
              "      <td>2096</td>\n",
              "      <td>12</td>\n",
              "      <td>1.0</td>\n",
              "    </tr>\n",
              "    <tr>\n",
              "      <th>3</th>\n",
              "      <td>45</td>\n",
              "      <td>0.0</td>\n",
              "      <td>2</td>\n",
              "      <td>2.0</td>\n",
              "      <td>1.0</td>\n",
              "      <td>1.0</td>\n",
              "      <td>7882</td>\n",
              "      <td>42</td>\n",
              "      <td>1.0</td>\n",
              "    </tr>\n",
              "    <tr>\n",
              "      <th>4</th>\n",
              "      <td>53</td>\n",
              "      <td>0.0</td>\n",
              "      <td>2</td>\n",
              "      <td>2.0</td>\n",
              "      <td>1.0</td>\n",
              "      <td>1.0</td>\n",
              "      <td>4870</td>\n",
              "      <td>24</td>\n",
              "      <td>0.0</td>\n",
              "    </tr>\n",
              "  </tbody>\n",
              "</table>\n",
              "</div>\n",
              "    <div class=\"colab-df-buttons\">\n",
              "\n",
              "  <div class=\"colab-df-container\">\n",
              "    <button class=\"colab-df-convert\" onclick=\"convertToInteractive('df-e62917bb-fdef-49ca-a577-ac340af09399')\"\n",
              "            title=\"Convert this dataframe to an interactive table.\"\n",
              "            style=\"display:none;\">\n",
              "\n",
              "  <svg xmlns=\"http://www.w3.org/2000/svg\" height=\"24px\" viewBox=\"0 -960 960 960\">\n",
              "    <path d=\"M120-120v-720h720v720H120Zm60-500h600v-160H180v160Zm220 220h160v-160H400v160Zm0 220h160v-160H400v160ZM180-400h160v-160H180v160Zm440 0h160v-160H620v160ZM180-180h160v-160H180v160Zm440 0h160v-160H620v160Z\"/>\n",
              "  </svg>\n",
              "    </button>\n",
              "\n",
              "  <style>\n",
              "    .colab-df-container {\n",
              "      display:flex;\n",
              "      gap: 12px;\n",
              "    }\n",
              "\n",
              "    .colab-df-convert {\n",
              "      background-color: #E8F0FE;\n",
              "      border: none;\n",
              "      border-radius: 50%;\n",
              "      cursor: pointer;\n",
              "      display: none;\n",
              "      fill: #1967D2;\n",
              "      height: 32px;\n",
              "      padding: 0 0 0 0;\n",
              "      width: 32px;\n",
              "    }\n",
              "\n",
              "    .colab-df-convert:hover {\n",
              "      background-color: #E2EBFA;\n",
              "      box-shadow: 0px 1px 2px rgba(60, 64, 67, 0.3), 0px 1px 3px 1px rgba(60, 64, 67, 0.15);\n",
              "      fill: #174EA6;\n",
              "    }\n",
              "\n",
              "    .colab-df-buttons div {\n",
              "      margin-bottom: 4px;\n",
              "    }\n",
              "\n",
              "    [theme=dark] .colab-df-convert {\n",
              "      background-color: #3B4455;\n",
              "      fill: #D2E3FC;\n",
              "    }\n",
              "\n",
              "    [theme=dark] .colab-df-convert:hover {\n",
              "      background-color: #434B5C;\n",
              "      box-shadow: 0px 1px 3px 1px rgba(0, 0, 0, 0.15);\n",
              "      filter: drop-shadow(0px 1px 2px rgba(0, 0, 0, 0.3));\n",
              "      fill: #FFFFFF;\n",
              "    }\n",
              "  </style>\n",
              "\n",
              "    <script>\n",
              "      const buttonEl =\n",
              "        document.querySelector('#df-e62917bb-fdef-49ca-a577-ac340af09399 button.colab-df-convert');\n",
              "      buttonEl.style.display =\n",
              "        google.colab.kernel.accessAllowed ? 'block' : 'none';\n",
              "\n",
              "      async function convertToInteractive(key) {\n",
              "        const element = document.querySelector('#df-e62917bb-fdef-49ca-a577-ac340af09399');\n",
              "        const dataTable =\n",
              "          await google.colab.kernel.invokeFunction('convertToInteractive',\n",
              "                                                    [key], {});\n",
              "        if (!dataTable) return;\n",
              "\n",
              "        const docLinkHtml = 'Like what you see? Visit the ' +\n",
              "          '<a target=\"_blank\" href=https://colab.research.google.com/notebooks/data_table.ipynb>data table notebook</a>'\n",
              "          + ' to learn more about interactive tables.';\n",
              "        element.innerHTML = '';\n",
              "        dataTable['output_type'] = 'display_data';\n",
              "        await google.colab.output.renderOutput(dataTable, element);\n",
              "        const docLink = document.createElement('div');\n",
              "        docLink.innerHTML = docLinkHtml;\n",
              "        element.appendChild(docLink);\n",
              "      }\n",
              "    </script>\n",
              "  </div>\n",
              "\n",
              "\n",
              "    <div id=\"df-85731096-e650-4f55-af62-0a2143cd6cab\">\n",
              "      <button class=\"colab-df-quickchart\" onclick=\"quickchart('df-85731096-e650-4f55-af62-0a2143cd6cab')\"\n",
              "                title=\"Suggest charts\"\n",
              "                style=\"display:none;\">\n",
              "\n",
              "<svg xmlns=\"http://www.w3.org/2000/svg\" height=\"24px\"viewBox=\"0 0 24 24\"\n",
              "     width=\"24px\">\n",
              "    <g>\n",
              "        <path d=\"M19 3H5c-1.1 0-2 .9-2 2v14c0 1.1.9 2 2 2h14c1.1 0 2-.9 2-2V5c0-1.1-.9-2-2-2zM9 17H7v-7h2v7zm4 0h-2V7h2v10zm4 0h-2v-4h2v4z\"/>\n",
              "    </g>\n",
              "</svg>\n",
              "      </button>\n",
              "\n",
              "<style>\n",
              "  .colab-df-quickchart {\n",
              "      --bg-color: #E8F0FE;\n",
              "      --fill-color: #1967D2;\n",
              "      --hover-bg-color: #E2EBFA;\n",
              "      --hover-fill-color: #174EA6;\n",
              "      --disabled-fill-color: #AAA;\n",
              "      --disabled-bg-color: #DDD;\n",
              "  }\n",
              "\n",
              "  [theme=dark] .colab-df-quickchart {\n",
              "      --bg-color: #3B4455;\n",
              "      --fill-color: #D2E3FC;\n",
              "      --hover-bg-color: #434B5C;\n",
              "      --hover-fill-color: #FFFFFF;\n",
              "      --disabled-bg-color: #3B4455;\n",
              "      --disabled-fill-color: #666;\n",
              "  }\n",
              "\n",
              "  .colab-df-quickchart {\n",
              "    background-color: var(--bg-color);\n",
              "    border: none;\n",
              "    border-radius: 50%;\n",
              "    cursor: pointer;\n",
              "    display: none;\n",
              "    fill: var(--fill-color);\n",
              "    height: 32px;\n",
              "    padding: 0;\n",
              "    width: 32px;\n",
              "  }\n",
              "\n",
              "  .colab-df-quickchart:hover {\n",
              "    background-color: var(--hover-bg-color);\n",
              "    box-shadow: 0 1px 2px rgba(60, 64, 67, 0.3), 0 1px 3px 1px rgba(60, 64, 67, 0.15);\n",
              "    fill: var(--button-hover-fill-color);\n",
              "  }\n",
              "\n",
              "  .colab-df-quickchart-complete:disabled,\n",
              "  .colab-df-quickchart-complete:disabled:hover {\n",
              "    background-color: var(--disabled-bg-color);\n",
              "    fill: var(--disabled-fill-color);\n",
              "    box-shadow: none;\n",
              "  }\n",
              "\n",
              "  .colab-df-spinner {\n",
              "    border: 2px solid var(--fill-color);\n",
              "    border-color: transparent;\n",
              "    border-bottom-color: var(--fill-color);\n",
              "    animation:\n",
              "      spin 1s steps(1) infinite;\n",
              "  }\n",
              "\n",
              "  @keyframes spin {\n",
              "    0% {\n",
              "      border-color: transparent;\n",
              "      border-bottom-color: var(--fill-color);\n",
              "      border-left-color: var(--fill-color);\n",
              "    }\n",
              "    20% {\n",
              "      border-color: transparent;\n",
              "      border-left-color: var(--fill-color);\n",
              "      border-top-color: var(--fill-color);\n",
              "    }\n",
              "    30% {\n",
              "      border-color: transparent;\n",
              "      border-left-color: var(--fill-color);\n",
              "      border-top-color: var(--fill-color);\n",
              "      border-right-color: var(--fill-color);\n",
              "    }\n",
              "    40% {\n",
              "      border-color: transparent;\n",
              "      border-right-color: var(--fill-color);\n",
              "      border-top-color: var(--fill-color);\n",
              "    }\n",
              "    60% {\n",
              "      border-color: transparent;\n",
              "      border-right-color: var(--fill-color);\n",
              "    }\n",
              "    80% {\n",
              "      border-color: transparent;\n",
              "      border-right-color: var(--fill-color);\n",
              "      border-bottom-color: var(--fill-color);\n",
              "    }\n",
              "    90% {\n",
              "      border-color: transparent;\n",
              "      border-bottom-color: var(--fill-color);\n",
              "    }\n",
              "  }\n",
              "</style>\n",
              "\n",
              "      <script>\n",
              "        async function quickchart(key) {\n",
              "          const quickchartButtonEl =\n",
              "            document.querySelector('#' + key + ' button');\n",
              "          quickchartButtonEl.disabled = true;  // To prevent multiple clicks.\n",
              "          quickchartButtonEl.classList.add('colab-df-spinner');\n",
              "          try {\n",
              "            const charts = await google.colab.kernel.invokeFunction(\n",
              "                'suggestCharts', [key], {});\n",
              "          } catch (error) {\n",
              "            console.error('Error during call to suggestCharts:', error);\n",
              "          }\n",
              "          quickchartButtonEl.classList.remove('colab-df-spinner');\n",
              "          quickchartButtonEl.classList.add('colab-df-quickchart-complete');\n",
              "        }\n",
              "        (() => {\n",
              "          let quickchartButtonEl =\n",
              "            document.querySelector('#df-85731096-e650-4f55-af62-0a2143cd6cab button');\n",
              "          quickchartButtonEl.style.display =\n",
              "            google.colab.kernel.accessAllowed ? 'block' : 'none';\n",
              "        })();\n",
              "      </script>\n",
              "    </div>\n",
              "\n",
              "    </div>\n",
              "  </div>\n"
            ],
            "application/vnd.google.colaboratory.intrinsic+json": {
              "type": "dataframe",
              "variable_name": "df",
              "summary": "{\n  \"name\": \"df\",\n  \"rows\": 1000,\n  \"fields\": [\n    {\n      \"column\": \"Age\",\n      \"properties\": {\n        \"dtype\": \"number\",\n        \"std\": 11,\n        \"min\": 19,\n        \"max\": 75,\n        \"num_unique_values\": 53,\n        \"samples\": [\n          34,\n          38,\n          55\n        ],\n        \"semantic_type\": \"\",\n        \"description\": \"\"\n      }\n    },\n    {\n      \"column\": \"Sex\",\n      \"properties\": {\n        \"dtype\": \"number\",\n        \"std\": 0.4627246633951101,\n        \"min\": 0.0,\n        \"max\": 1.0,\n        \"num_unique_values\": 2,\n        \"samples\": [\n          1.0,\n          0.0\n        ],\n        \"semantic_type\": \"\",\n        \"description\": \"\"\n      }\n    },\n    {\n      \"column\": \"Job\",\n      \"properties\": {\n        \"dtype\": \"number\",\n        \"std\": 0,\n        \"min\": 0,\n        \"max\": 3,\n        \"num_unique_values\": 4,\n        \"samples\": [\n          1,\n          0\n        ],\n        \"semantic_type\": \"\",\n        \"description\": \"\"\n      }\n    },\n    {\n      \"column\": \"Housing\",\n      \"properties\": {\n        \"dtype\": \"number\",\n        \"std\": 0.6748558590028163,\n        \"min\": 0.0,\n        \"max\": 2.0,\n        \"num_unique_values\": 3,\n        \"samples\": [\n          0.0,\n          2.0\n        ],\n        \"semantic_type\": \"\",\n        \"description\": \"\"\n      }\n    },\n    {\n      \"column\": \"Saving accounts\",\n      \"properties\": {\n        \"dtype\": \"number\",\n        \"std\": 0.9668685716450018,\n        \"min\": 0.0,\n        \"max\": 4.0,\n        \"num_unique_values\": 5,\n        \"samples\": [\n          1.0,\n          2.0\n        ],\n        \"semantic_type\": \"\",\n        \"description\": \"\"\n      }\n    },\n    {\n      \"column\": \"Checking account\",\n      \"properties\": {\n        \"dtype\": \"number\",\n        \"std\": 1.1077595096098836,\n        \"min\": 0.0,\n        \"max\": 4.0,\n        \"num_unique_values\": 4,\n        \"samples\": [\n          2.0,\n          4.0\n        ],\n        \"semantic_type\": \"\",\n        \"description\": \"\"\n      }\n    },\n    {\n      \"column\": \"Credit amount\",\n      \"properties\": {\n        \"dtype\": \"number\",\n        \"std\": 2822,\n        \"min\": 250,\n        \"max\": 18424,\n        \"num_unique_values\": 921,\n        \"samples\": [\n          1068,\n          2326\n        ],\n        \"semantic_type\": \"\",\n        \"description\": \"\"\n      }\n    },\n    {\n      \"column\": \"Duration\",\n      \"properties\": {\n        \"dtype\": \"number\",\n        \"std\": 12,\n        \"min\": 4,\n        \"max\": 72,\n        \"num_unique_values\": 33,\n        \"samples\": [\n          72,\n          27\n        ],\n        \"semantic_type\": \"\",\n        \"description\": \"\"\n      }\n    },\n    {\n      \"column\": \"Risk\",\n      \"properties\": {\n        \"dtype\": \"number\",\n        \"std\": 0.45848687027025403,\n        \"min\": 0.0,\n        \"max\": 1.0,\n        \"num_unique_values\": 2,\n        \"samples\": [\n          0.0,\n          1.0\n        ],\n        \"semantic_type\": \"\",\n        \"description\": \"\"\n      }\n    }\n  ]\n}"
            }
          },
          "metadata": {},
          "execution_count": 119
        }
      ]
    },
    {
      "cell_type": "markdown",
      "source": [
        "Separate the target y from the input data x and separate the training and test set."
      ],
      "metadata": {
        "id": "umwsuLeXdac0"
      }
    },
    {
      "cell_type": "code",
      "source": [
        "# Assuming 'df' is your DataFrame and 'Risk' is the target column\n",
        "X = df.drop('Risk', axis=1)  # Features (all columns except 'Risk')\n",
        "y = df['Risk']  # Target variable\n",
        "\n"
      ],
      "metadata": {
        "id": "E1OB2SdXagXd"
      },
      "execution_count": null,
      "outputs": []
    },
    {
      "cell_type": "code",
      "source": [
        "# Split the data into training and testing sets\n",
        "X_train, X_test, y_train, y_test = train_test_split(X, y, test_size=0.2, random_state=11)\n",
        "print(df.info())"
      ],
      "metadata": {
        "colab": {
          "base_uri": "https://localhost:8080/"
        },
        "id": "vWmiVMRW8bdN",
        "outputId": "b5acbd72-c85b-473f-f767-d33c38a0affb"
      },
      "execution_count": null,
      "outputs": [
        {
          "output_type": "stream",
          "name": "stdout",
          "text": [
            "<class 'pandas.core.frame.DataFrame'>\n",
            "RangeIndex: 1000 entries, 0 to 999\n",
            "Data columns (total 9 columns):\n",
            " #   Column            Non-Null Count  Dtype  \n",
            "---  ------            --------------  -----  \n",
            " 0   Age               1000 non-null   int64  \n",
            " 1   Sex               1000 non-null   float64\n",
            " 2   Job               1000 non-null   int64  \n",
            " 3   Housing           1000 non-null   float64\n",
            " 4   Saving accounts   1000 non-null   float64\n",
            " 5   Checking account  1000 non-null   float64\n",
            " 6   Credit amount     1000 non-null   int64  \n",
            " 7   Duration          1000 non-null   int64  \n",
            " 8   Risk              1000 non-null   float64\n",
            "dtypes: float64(5), int64(4)\n",
            "memory usage: 70.4 KB\n",
            "None\n"
          ]
        }
      ]
    },
    {
      "cell_type": "markdown",
      "source": [
        "### Model training"
      ],
      "metadata": {
        "id": "SvWQWozmahZu"
      }
    },
    {
      "cell_type": "code",
      "source": [
        "def create_model(X_train, y_train):\n",
        "    # Initialize the GradientBoostingClassifier with desired parameters\n",
        "    model = GradientBoostingClassifier(\n",
        "        n_estimators=80,  # Number of boosting stages (trees)\n",
        "        learning_rate=0.1,  # Step size shrinkage used in update to prevents overfitting\n",
        "        max_depth=3,  # Maximum depth of the individual trees\n",
        "        random_state=11,  # Random seed for reproducibility\n",
        "    )\n",
        "\n",
        "    # Train the model\n",
        "    model.fit(X_train, y_train)\n",
        "    return model\n",
        "\n",
        "model = create_model(X_train, y_train)\n",
        "accuracy = accuracy_score(y_train, model.predict(X_train))\n",
        "print(f\"Training accuracy: {accuracy:.3f}\")\n",
        "accuracy = accuracy_score(y_test, model.predict(X_test))\n",
        "print(f\"Test accuracy: {accuracy:.3f}\")"
      ],
      "metadata": {
        "colab": {
          "base_uri": "https://localhost:8080/"
        },
        "id": "M8emNnAde7m0",
        "outputId": "aac042e6-1b5e-4099-a196-05126cf2d38e"
      },
      "execution_count": null,
      "outputs": [
        {
          "output_type": "stream",
          "name": "stdout",
          "text": [
            "Test accuracy: 0.866\n",
            "Test accuracy: 0.710\n"
          ]
        }
      ]
    },
    {
      "cell_type": "markdown",
      "source": [
        "## 2) Biais"
      ],
      "metadata": {
        "id": "HEF7qIgTRFG7"
      }
    },
    {
      "cell_type": "markdown",
      "source": [
        "For this section when asked to compute the prevalence and accuracy, compute it **on the test set**."
      ],
      "metadata": {
        "id": "ntl0j-EGxwfq"
      }
    },
    {
      "cell_type": "markdown",
      "source": [
        "### Find and measure bias"
      ],
      "metadata": {
        "id": "ckDo5R9MYDjB"
      }
    },
    {
      "cell_type": "markdown",
      "source": [
        "For the risk model find two features that could represent a bias with a negative societal impact, explain why they represent a risk of negative societal impact and measure the prevalence  ($\\frac{TP+FN}{TP+FN+FP+TN}$) difference between two groups for both of these features to check if one has an easiest access to credit than the other."
      ],
      "metadata": {
        "id": "hMq-uDJ6fJF-"
      }
    },
    {
      "cell_type": "code",
      "source": [
        "# Create a function that computes the prevalence based on the model the input_data,\n",
        "#  the target and the threshold with a default value of 0.5\n",
        "\n",
        "#Separate the dataset in two groups based on Feature 1\n",
        "\n",
        "#Compute the prevalence for the two groups\n",
        "\n",
        "#Separate the dataset in two groups based on Feature 2\n",
        "\n",
        "#Compute the prevalence for the two groups"
      ],
      "metadata": {
        "id": "mdUPMljNg5gn"
      },
      "execution_count": null,
      "outputs": []
    },
    {
      "cell_type": "markdown",
      "source": [
        "MODIFY THE TEXT HERE TO ANALYZE THE PREVALENCE DIFFERENCE AND EXPLAIN WHICH GROUP HAS AN ADVANTAGE.\n",
        "\n",
        "\n",
        "\n",
        "\n"
      ],
      "metadata": {
        "id": "cAJ_FR8ghOvF"
      }
    },
    {
      "cell_type": "markdown",
      "source": [
        "### Pre-processing bias management"
      ],
      "metadata": {
        "id": "AJgVMnI_YGLs"
      }
    },
    {
      "cell_type": "markdown",
      "source": [
        "Apply a pre-processing technique of your choice (droping the sensitive feature, resampling, disparate impact remover, ...) **for one of the bias senstive feature** to modify the training data and create a new model using the function create_model(). Then compute the prevalence difference between the two groups and compare it to the model without the pre-processing. Check if this had an impact on the accuracy of your model."
      ],
      "metadata": {
        "id": "DOf3WK7iiAAH"
      }
    },
    {
      "cell_type": "code",
      "source": [
        "#create a new dataset by applying a bias pre-processing technique\n",
        "\n",
        "#create the model based on this new dataset\n",
        "\n",
        "#Separate the dataset in two groups based on the feature\n",
        "\n",
        "#Compute the prevalence for the two groups (reuse the function of the previous function) and there difference\n",
        "\n",
        "#Compute the average accuracy for this new model\n",
        "\n"
      ],
      "metadata": {
        "id": "IFUpwdu1jryF"
      },
      "execution_count": null,
      "outputs": []
    },
    {
      "cell_type": "markdown",
      "source": [
        "MODIFY THE TEXT HERE TO ANALYZE THE PREVALENCE DIFFERENCE  BETWEEN THE TWO GROUPS BEFORE AND AFTER THE PREPROCESSING TECHNIQUE. CHECK HOW THE PREPROCESSING IMPACTED THE ACCURACY AND ANALYZE WHY."
      ],
      "metadata": {
        "id": "Bl5y_CNpkq87"
      }
    },
    {
      "cell_type": "markdown",
      "source": [
        "### Post-processing bias management"
      ],
      "metadata": {
        "id": "t2u7iWWJYQaX"
      }
    },
    {
      "cell_type": "markdown",
      "source": [
        "For the same feature as for the pre-processing apply a post-processing technique to fight the bias. The technique that you are asked to use is the use of two different threshold for the two groups. To do so, find two thresholds that give the same prevalence for the two groups of 0.8. Check if this had an impact on the general accuracy. Use the model by default and not the one created in the bias pre-processing section. Plot the graph of the prevalence against the threshold to help you."
      ],
      "metadata": {
        "id": "bbtlpzc7mfw_"
      }
    },
    {
      "cell_type": "code",
      "source": [
        "#Code to obtain the two thresholds"
      ],
      "metadata": {
        "id": "aFRFCW1ToTz4"
      },
      "execution_count": null,
      "outputs": []
    },
    {
      "cell_type": "markdown",
      "source": [
        "MODIFY THE TEXT HERE TO ANALYZE THE PREVALENCE DIFFERENCE BETWEEN THE TWO GROUPS BEFORE AND AFTER THE POSTPROCESSING TECHNIQUE. CHECK HOW THE POSTPROCESSING IMPACTED THE AVERAGE ACCURACY AND ANALYZE WHY."
      ],
      "metadata": {
        "id": "_i1hH_iBpQ3s"
      }
    },
    {
      "cell_type": "markdown",
      "source": [
        "## 3) Explainability\n"
      ],
      "metadata": {
        "id": "hjLvt3YYRJUC"
      }
    },
    {
      "cell_type": "markdown",
      "source": [
        "For this section use the default model trained in the first instructions section."
      ],
      "metadata": {
        "id": "kfWX9SDZ1mBY"
      }
    },
    {
      "cell_type": "markdown",
      "source": [
        "### Feature permutation importance"
      ],
      "metadata": {
        "id": "H2WP8TJPXmH-"
      }
    },
    {
      "cell_type": "markdown",
      "source": [
        "Compute the feature permutation importance for each feature and analyze the results."
      ],
      "metadata": {
        "id": "bzTIzGYdxQ91"
      }
    },
    {
      "cell_type": "code",
      "source": [
        "#code for the feature permutation importance\n"
      ],
      "metadata": {
        "id": "RYY1qFYtydff"
      },
      "execution_count": null,
      "outputs": []
    },
    {
      "cell_type": "markdown",
      "source": [
        "ANALYZE HERE THE RESULTS (IT CAN BE SHORT)"
      ],
      "metadata": {
        "id": "cemmzHXqyefr"
      }
    },
    {
      "cell_type": "markdown",
      "source": [
        "###Partial dependance plot"
      ],
      "metadata": {
        "id": "p6pLjIvcXuho"
      }
    },
    {
      "cell_type": "markdown",
      "source": [
        "Show the partial dependance plot of the model postive (good) credit risk rate for the three continuous features (age, credit_amount and duration) and analyze the results."
      ],
      "metadata": {
        "id": "l54ZQwhmyv4J"
      }
    },
    {
      "cell_type": "code",
      "source": [
        "#code for the partial dependance plot\n"
      ],
      "metadata": {
        "id": "dZ9NYw2Dywc7"
      },
      "execution_count": null,
      "outputs": []
    },
    {
      "cell_type": "markdown",
      "source": [
        "ANALYZE OF THE PARTIAL DEPENDANCE PLOT"
      ],
      "metadata": {
        "id": "BWsO5TZMyxIE"
      }
    },
    {
      "cell_type": "markdown",
      "source": [
        "### Integrated Gradient"
      ],
      "metadata": {
        "id": "kiN4oLACX0wM"
      }
    },
    {
      "cell_type": "markdown",
      "source": [
        "Louise is 23, she is a woman (value 1) and she has a master (and is hence highly skilled). For the moment she rents an appartement and she wants to buy a new couch. For this she would need to take loan of 5000 on 12 months. She has a low checking account (value 1) and a low saving account (value 1). When she asks for the loan it's declined and she doesn't understand why, hence, she asks her friend john (characteristics in the code below) to apply for the same loan and he gets it. She wants to understand why john got the loan and she didn't and she heared of the integrated gradient technique. She asks you to implement it and explain here what features made de difference in the model decision."
      ],
      "metadata": {
        "id": "YLdriSrT1Lfh"
      }
    },
    {
      "cell_type": "code",
      "source": [
        "# Create a dictionary with Louise's information\n",
        "louise_data = {\n",
        "    'Age': [20],\n",
        "    'Sex': [1],\n",
        "    'Job': [3],  # Highly skilled (master)\n",
        "    'Housing': [1],\n",
        "    'Saving accounts': [1],\n",
        "    'Checking account': [1],\n",
        "    'Credit amount': [5000],\n",
        "    'Duration': [12]\n",
        "}\n",
        "\n",
        "john_data = {\n",
        "   'Age': [45],\n",
        "    'Sex': [0],\n",
        "    'Job': [2],\n",
        "    'Housing': [0],\n",
        "    'Saving accounts': [3],\n",
        "    'Checking account': [3],\n",
        "    'Credit amount': [5000],\n",
        "    'Duration': [12]\n",
        "}\n",
        "\n",
        "# Create a DataFrame from the dictionary\n",
        "louise_df = pd.DataFrame(louise_data)\n",
        "john_df = pd.DataFrame(john_data)\n",
        "\n",
        "# Assuming 'model' is your trained TensorFlow model\n",
        "prediction_probability_louise = model.predict_proba(louise_df)[0][1]  # Get the probability\n",
        "prediction_probability_john = model.predict_proba(john_df)[0][1]  # Get the probability\n",
        "\n",
        "print(f\"The probability of Louise having a good credit risk is: {prediction_probability_louise * 100:.2f}%\")\n",
        "print(f\"The probability of John having a good credit risk is: {prediction_probability_john * 100:.2f}%\")"
      ],
      "metadata": {
        "colab": {
          "base_uri": "https://localhost:8080/"
        },
        "id": "p48YQcY61MhE",
        "outputId": "d5bd8d1d-5942-4ea7-f93f-9a7489d0e920"
      },
      "execution_count": null,
      "outputs": [
        {
          "output_type": "stream",
          "name": "stdout",
          "text": [
            "The probability of Louise having a good credit risk is: 44.51%\n",
            "The probability of John having a good credit risk is: 63.72%\n"
          ]
        }
      ]
    },
    {
      "cell_type": "code",
      "source": [
        "#Implementation of the integrated gradient technique"
      ],
      "metadata": {
        "id": "lhNV14UG_jsx"
      },
      "execution_count": null,
      "outputs": []
    },
    {
      "cell_type": "markdown",
      "source": [
        "EXPLAINATION FOR LOUISE"
      ],
      "metadata": {
        "id": "iWZ8_8X6_rhC"
      }
    },
    {
      "cell_type": "markdown",
      "source": [
        "## 4) Security"
      ],
      "metadata": {
        "id": "qIRf3YojRZfq"
      }
    },
    {
      "cell_type": "markdown",
      "source": [
        "### Black box attack"
      ],
      "metadata": {
        "id": "iZ-3cmpNW-Qa"
      }
    },
    {
      "cell_type": "markdown",
      "source": [
        "Louise whose situation was explained in the Integrated Gradient section wants to reapply for a loan. She is ready to lie about her age, to change the duration of the loan to maximum 2 months and to change the amount of the loan (if the loan stays between 4900 and 5100). She doesn't have access to the model inside weights and wants you to make a black box attack that would allow here to get a prediction above 0.5 for the risk but by lying and by changing her loan conditions as little as possible. Propose such a solution and propose a smart algorithm to obtain it. Pay attention to the scale (month, year vs euro)"
      ],
      "metadata": {
        "id": "GPKz6uVuAJQB"
      }
    },
    {
      "cell_type": "code",
      "source": [
        "#Code of the black box attack"
      ],
      "metadata": {
        "id": "VRk5N3enEv35"
      },
      "execution_count": null,
      "outputs": []
    },
    {
      "cell_type": "markdown",
      "source": [
        "WRITE HERE WHAT SHE NEEDS TO CHANGE IN ORDER TO GET THE LOAN"
      ],
      "metadata": {
        "id": "5t-89NfXEwtA"
      }
    },
    {
      "cell_type": "markdown",
      "source": [
        "### Data poisoning\n",
        "\n"
      ],
      "metadata": {
        "id": "1zznJU28W99n"
      }
    },
    {
      "cell_type": "markdown",
      "source": [
        "Louise whose situation was explained in the Integrated Gradient section got access to the training data, she decides to poison it so that when she applies with her real information and wanted loan conditions she gets a positive response.\n",
        "\n",
        "Add data to the training dataset so that after retraining the model Louise's application gets approved, check the impact it has on the test set accuracy and find a method that impacts the test set accuracy as little as possible so that nobody notices the poisoning.\n",
        "\n",
        "*Advice: create a new variable to old the poisoined dataset so that when you go back to other exercices you don't use the wrong data.*"
      ],
      "metadata": {
        "id": "IFRoge7aERbd"
      }
    },
    {
      "cell_type": "code",
      "source": [
        "#Code of the data poisoining"
      ],
      "metadata": {
        "id": "gQTR2Y9CFOA6"
      },
      "execution_count": null,
      "outputs": []
    },
    {
      "cell_type": "markdown",
      "source": [
        "DESCRIBE YOUR DATA POISONING STRATEGY AND HOW YOU LIMITED THE IMPACT ON THE TEST SET ACCURACY"
      ],
      "metadata": {
        "id": "GtCfbgFiFO_J"
      }
    }
  ]
}